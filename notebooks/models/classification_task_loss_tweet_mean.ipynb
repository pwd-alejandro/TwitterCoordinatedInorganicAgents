{
 "cells": [
  {
   "cell_type": "markdown",
   "id": "53e82631",
   "metadata": {},
   "source": [
    "# What we've learned \n",
    "\n",
    "*from classification_task_benchmark*\n",
    "\n",
    "-Cleaning doesn't have a noticeable effect on performance\\\n",
    "-Imbalance of the classes is a problem. Downsampling was our first approach\\\n",
    "-Taking the mean of the token's representation seems to work.\n",
    "-distiled-Bert works better\n",
    "\n",
    "# What we are going to test here\n",
    "\n",
    "-Training with less downsampling\\\n",
    "-Training with different loss function to look for minority class\\\n",
    "-How much influence does the padding have over the quality of the representation (varying max token truncation).\n"
   ]
  },
  {
   "cell_type": "code",
   "execution_count": 1,
   "id": "b0468cab",
   "metadata": {
    "code_folding": [
     0
    ]
   },
   "outputs": [],
   "source": [
    "# imports\n",
    "import sys  \n",
    "sys.path.insert(0, '../../../TwitterCoordinatedInorganicAgents')\n",
    "\n",
    "import torch\n",
    "import pandas as pd\n",
    "import seaborn as sns\n",
    "import matplotlib.pyplot as plt\n",
    "from transformers import AutoModel\n",
    "from transformers import AutoTokenizer\n",
    "import numpy as np\n",
    "from tweetcore.tasks.postgres_target import download_data\n",
    "from data_builders.tasks import collapse_embeddings\n",
    "import credentials_refactor\n",
    "import global_settings as gs\n",
    "import gc\n",
    "\n",
    "# models\n",
    "from sklearn.linear_model import LogisticRegression\n",
    "from sklearn.neighbors import KNeighborsClassifier\n",
    "from sklearn.ensemble import RandomForestClassifier\n",
    "from xgboost import XGBClassifier\n",
    "from sklearn.model_selection import train_test_split, cross_validate\n",
    "from sklearn.metrics import accuracy_score, f1_score, classification_report, roc_curve, auc, confusion_matrix"
   ]
  },
  {
   "cell_type": "markdown",
   "id": "3f314146",
   "metadata": {},
   "source": [
    "# Data ready"
   ]
  },
  {
   "cell_type": "code",
   "execution_count": 11,
   "id": "e6a04955",
   "metadata": {
    "code_folding": []
   },
   "outputs": [],
   "source": [
    "# data\n",
    "conf = credentials_refactor.return_credentials()\n",
    "data = download_data.pandas_df_from_postgre_query(configuration = conf ,\n",
    "                                                  query = '''\n",
    "                                                          select*\n",
    "                                                          from ( \n",
    "                                                          select *\n",
    "                                                          from tweetcore.migration_development\n",
    "                                                          where label = 'human'\n",
    "                                                          order by index\n",
    "                                                          limit 50000 ) t0\n",
    "                                                          union all\n",
    "                                                          select *\n",
    "                                                          from ( \n",
    "                                                          select *\n",
    "                                                          from tweetcore.migration_development\n",
    "                                                          where label = 'bot'\n",
    "                                                          order by index\n",
    "                                                          limit 50000 ) t0\n",
    "                                                          ''')\n",
    "test = download_data.pandas_df_from_postgre_query(configuration = conf ,\n",
    "                                                  query = '''\n",
    "                                                          select *\n",
    "                                                          from tweetcore.migration_development\n",
    "                                                          order by index desc\n",
    "                                                          limit 50000\n",
    "                                                  ''')\n"
   ]
  },
  {
   "cell_type": "code",
   "execution_count": 3,
   "id": "fed33a62",
   "metadata": {},
   "outputs": [
    {
     "data": {
      "text/plain": [
       "<AxesSubplot:xlabel='label', ylabel='count'>"
      ]
     },
     "execution_count": 3,
     "metadata": {},
     "output_type": "execute_result"
    },
    {
     "data": {
      "image/png": "[encoded data removed]",
      "text/plain": [
       "<Figure size 432x288 with 1 Axes>"
      ]
     },
     "metadata": {
      "needs_background": "light"
     },
     "output_type": "display_data"
    }
   ],
   "source": [
    "sns.countplot(x=data.label)"
   ]
  },
  {
   "cell_type": "markdown",
   "id": "9a9d0f8f",
   "metadata": {},
   "source": [
    "# Benchmark with less downsampling "
   ]
  },
  {
   "cell_type": "markdown",
   "id": "bc17e1c1",
   "metadata": {},
   "source": [
    "## Code"
   ]
  },
  {
   "cell_type": "code",
   "execution_count": 14,
   "id": "1feb441a",
   "metadata": {},
   "outputs": [],
   "source": [
    "data.loc[:,\"target\"] = data.label.map(lambda x: 1 if x=='bot' else 0)\n",
    "test.loc[:,\"target\"] = test.label.map(lambda x: 1 if x=='bot' else 0)"
   ]
  },
  {
   "cell_type": "code",
   "execution_count": 15,
   "id": "55ae2476",
   "metadata": {
    "code_folding": [
     0
    ]
   },
   "outputs": [
    {
     "name": "stdout",
     "output_type": "stream",
     "text": [
      "0.5\n",
      "0.23684\n"
     ]
    }
   ],
   "source": [
    "# imbalance\n",
    "print(sum(data.target)/data.shape[0])\n",
    "print(sum(test.target)/test.shape[0])"
   ]
  },
  {
   "cell_type": "code",
   "execution_count": 6,
   "id": "c140512d",
   "metadata": {},
   "outputs": [],
   "source": [
    "X_train, X_test, y_train, y_test = train_test_split(\n",
    "                                        data[[\"index\", \"target\", \"text\"]], \n",
    "                                        data.target, \n",
    "                                        test_size=0.3, \n",
    "                                        random_state=42\n",
    "                                        )"
   ]
  },
  {
   "cell_type": "code",
   "execution_count": 7,
   "id": "b1fbb622",
   "metadata": {},
   "outputs": [
    {
     "data": {
      "text/plain": [
       "52.08"
      ]
     },
     "execution_count": 7,
     "metadata": {},
     "output_type": "execute_result"
    }
   ],
   "source": [
    "max(data[\"index\"])/5000"
   ]
  },
  {
   "cell_type": "code",
   "execution_count": 8,
   "id": "7daf8c3b",
   "metadata": {},
   "outputs": [
    {
     "data": {
      "text/plain": [
       "599999"
      ]
     },
     "execution_count": 8,
     "metadata": {},
     "output_type": "execute_result"
    }
   ],
   "source": [
    "max(test[\"index\"])"
   ]
  },
  {
   "cell_type": "code",
   "execution_count": 9,
   "id": "4e57b425",
   "metadata": {
    "code_folding": [],
    "scrolled": true
   },
   "outputs": [
    {
     "name": "stdout",
     "output_type": "stream",
     "text": [
      "53/53\n",
      "--- Ended ---\n"
     ]
    }
   ],
   "source": [
    "# training data\n",
    "path_140 = f'{gs.data_path}/nlp/embeddings/140'\n",
    "data_emb, path_permanent = collapse_embeddings.read_embeddings_simple(path=path_140,\n",
    "                                                                      number_of_files=53,\n",
    "                                                                      emb_dim=768,\n",
    "                                                                      collapse_tweet=True,\n",
    "                                                                      save_on_disk=True)"
   ]
  },
  {
   "cell_type": "code",
   "execution_count": 10,
   "id": "8b6f7f2a",
   "metadata": {
    "code_folding": [
     0
    ]
   },
   "outputs": [
    {
     "name": "stdout",
     "output_type": "stream",
     "text": [
      "10/10\n",
      "--- Ended ---\n"
     ]
    }
   ],
   "source": [
    "# validation imabalanced\n",
    "files_generated = []\n",
    "for i in range(10):\n",
    "    root = 'development_140_'+str(5500+(i+1)*50)+'.npy'\n",
    "    files_generated.append(root)\n",
    "test_emb, path_test_permanent = collapse_embeddings.read_embeddings_simple(path=path_140,\n",
    "                                                                           files = files_generated,\n",
    "                                                                           emb_dim=768,\n",
    "                                                                           collapse_tweet=True, \n",
    "                                                                           save_on_disk=True)"
   ]
  },
  {
   "cell_type": "code",
   "execution_count": 11,
   "id": "aa5e8ba4",
   "metadata": {},
   "outputs": [],
   "source": [
    "X_train_emb = data_emb[list(X_train[\"index\"].values)]"
   ]
  },
  {
   "cell_type": "code",
   "execution_count": 12,
   "id": "0a16d996",
   "metadata": {},
   "outputs": [],
   "source": [
    "X_test_emb = data_emb[list(X_test[\"index\"].values)]"
   ]
  },
  {
   "cell_type": "code",
   "execution_count": null,
   "id": "d827e546",
   "metadata": {
    "code_folding": [
     0
    ]
   },
   "outputs": [],
   "source": [
    "# test different models\n",
    "\n",
    "rf = RandomForestClassifier()\n",
    "lr = LogisticRegression(max_iter=1000)\n",
    "kn = KNeighborsClassifier()\n",
    "\n",
    "all_models = {\"LogisticRegression\":lr,\"RandomForest\":rf,  \"K-Neighbors\":kn}\n",
    "\n",
    "for name, model in zip(all_models.keys(), all_models.values()):\n",
    "    cv_results = cross_validate(model, \n",
    "                            X_train_emb, \n",
    "                            y_train, \n",
    "                            cv=5,\n",
    "                            scoring=[\"f1\"])\n",
    "    print(name + \" with mean accuracy over 5 folds of: \" + str(round(np.mean(cv_results[\"test_f1\"]),4)) + \" and sigma accross test metrics of: \" + str(round(np.std(cv_results[\"test_f1\"]),4)))"
   ]
  },
  {
   "cell_type": "code",
   "execution_count": 13,
   "id": "547a005b",
   "metadata": {},
   "outputs": [
    {
     "data": {
      "text/plain": [
       "LogisticRegression(max_iter=1000)"
      ]
     },
     "execution_count": 13,
     "metadata": {},
     "output_type": "execute_result"
    }
   ],
   "source": [
    "model = LogisticRegression(max_iter=1000)\n",
    "model.fit(X_train_emb,y_train)"
   ]
  },
  {
   "cell_type": "markdown",
   "id": "904ee67b",
   "metadata": {},
   "source": [
    "## [benchmark] Imbalance training: 0.5 & Imbalance validation: 0.5"
   ]
  },
  {
   "cell_type": "code",
   "execution_count": 14,
   "id": "74116c67",
   "metadata": {},
   "outputs": [
    {
     "name": "stdout",
     "output_type": "stream",
     "text": [
      "              precision    recall  f1-score   support\n",
      "\n",
      "           0       0.57      0.59      0.58     15055\n",
      "           1       0.57      0.55      0.56     14945\n",
      "\n",
      "    accuracy                           0.57     30000\n",
      "   macro avg       0.57      0.57      0.57     30000\n",
      "weighted avg       0.57      0.57      0.57     30000\n",
      "\n"
     ]
    }
   ],
   "source": [
    "print(classification_report(y_test, model.predict(X_test_emb)))"
   ]
  },
  {
   "cell_type": "code",
   "execution_count": 15,
   "id": "f6ba1e24",
   "metadata": {
    "code_folding": [
     0
    ]
   },
   "outputs": [
    {
     "data": {
      "text/plain": [
       "<matplotlib.legend.Legend at 0x27dfb676580>"
      ]
     },
     "execution_count": 15,
     "metadata": {},
     "output_type": "execute_result"
    },
    {
     "data": {
      "image/png": "[encoded data removed]",
      "text/plain": [
       "<Figure size 432x288 with 1 Axes>"
      ]
     },
     "metadata": {
      "needs_background": "light"
     },
     "output_type": "display_data"
    }
   ],
   "source": [
    "# ROC curve\n",
    "y_true = y_test\n",
    "y_pre = model.predict(X_test_emb)\n",
    "ax1=plt.subplot(111)\n",
    "fpr, tpr, thresholds = roc_curve(y_true, y_pre)\n",
    "roc_auc = auc(fpr, tpr)\n",
    "ax1.plot(fpr, tpr, lw=1, alpha=0.3,label='(AUC = %0.2f)'%roc_auc)\n",
    "ax1.plot([0, 1], [0, 1], linestyle='--', lw=2, color='r', label='Chance', alpha=.8)\n",
    "ax1.set_xlim([-0.05, 1.05])\n",
    "ax1.set_ylim([-0.05, 1.05])\n",
    "ax1.set_xlabel('False Positive Rate')\n",
    "ax1.set_ylabel('True Positive Rate')\n",
    "ax1.set_title('ROC curve ')\n",
    "ax1.legend(loc='best')\n",
    "    "
   ]
  },
  {
   "cell_type": "markdown",
   "id": "ba6b7852",
   "metadata": {},
   "source": [
    "## Code"
   ]
  },
  {
   "cell_type": "code",
   "execution_count": 16,
   "id": "306ed3ff",
   "metadata": {},
   "outputs": [
    {
     "data": {
      "text/plain": [
       "LogisticRegression(max_iter=10000)"
      ]
     },
     "execution_count": 16,
     "metadata": {},
     "output_type": "execute_result"
    }
   ],
   "source": [
    "# train with all data\n",
    "data_random = data.sample(frac=1).copy()\n",
    "model = LogisticRegression(max_iter=10000)\n",
    "model.fit(data_emb[list(data_random[\"index\"].values)],data_random.target)"
   ]
  },
  {
   "cell_type": "code",
   "execution_count": 17,
   "id": "41dc9d10",
   "metadata": {
    "code_folding": [
     0
    ]
   },
   "outputs": [
    {
     "name": "stdout",
     "output_type": "stream",
     "text": [
      "0.23684\n"
     ]
    }
   ],
   "source": [
    "# imbalance test data\n",
    "print(sum(test.target)/test.shape[0])"
   ]
  },
  {
   "cell_type": "code",
   "execution_count": 17,
   "id": "8489fd2f",
   "metadata": {},
   "outputs": [],
   "source": [
    "test_random = test.sample(frac=1).copy()"
   ]
  },
  {
   "cell_type": "code",
   "execution_count": 19,
   "id": "9303665e",
   "metadata": {},
   "outputs": [],
   "source": [
    "y_pred = model.predict(test_emb[list(test_random[\"index\"].values-550000)])\n",
    "y_test1 = test_random.target"
   ]
  },
  {
   "cell_type": "markdown",
   "id": "850bd9ce",
   "metadata": {},
   "source": [
    "## [benchmark] Imabalance training: 0.5 & Imabalance validation: 0.24"
   ]
  },
  {
   "cell_type": "code",
   "execution_count": 20,
   "id": "1bb64ffe",
   "metadata": {},
   "outputs": [
    {
     "name": "stdout",
     "output_type": "stream",
     "text": [
      "              precision    recall  f1-score   support\n",
      "\n",
      "           0       0.77      0.63      0.69     38158\n",
      "           1       0.25      0.39      0.30     11842\n",
      "\n",
      "    accuracy                           0.57     50000\n",
      "   macro avg       0.51      0.51      0.50     50000\n",
      "weighted avg       0.65      0.57      0.60     50000\n",
      "\n"
     ]
    }
   ],
   "source": [
    "# benchmark\n",
    "print(classification_report(y_test1, y_pred))"
   ]
  },
  {
   "cell_type": "code",
   "execution_count": 21,
   "id": "67e2bb4d",
   "metadata": {
    "code_folding": [
     0
    ]
   },
   "outputs": [
    {
     "data": {
      "text/plain": [
       "<matplotlib.legend.Legend at 0x27dfb8d3880>"
      ]
     },
     "execution_count": 21,
     "metadata": {},
     "output_type": "execute_result"
    },
    {
     "data": {
      "image/png": "[encoded data removed]",
      "text/plain": [
       "<Figure size 432x288 with 1 Axes>"
      ]
     },
     "metadata": {
      "needs_background": "light"
     },
     "output_type": "display_data"
    }
   ],
   "source": [
    "# ROC curve\n",
    "y_true = y_test1.copy()\n",
    "y_pre = y_pred.copy()\n",
    "ax1=plt.subplot(111)\n",
    "fpr, tpr, thresholds = roc_curve(y_true, y_pre)\n",
    "roc_auc = auc(fpr, tpr)\n",
    "ax1.plot(fpr, tpr, lw=1, alpha=0.3,label='(AUC = %0.2f)'%roc_auc)\n",
    "ax1.plot([0, 1], [0, 1], linestyle='--', lw=2, color='r', label='Chance', alpha=.8)\n",
    "ax1.set_xlim([-0.05, 1.05])\n",
    "ax1.set_ylim([-0.05, 1.05])\n",
    "ax1.set_xlabel('False Positive Rate')\n",
    "ax1.set_ylabel('True Positive Rate')\n",
    "ax1.set_title('ROC curve ')\n",
    "ax1.legend(loc='best')\n",
    "    "
   ]
  },
  {
   "cell_type": "markdown",
   "id": "aa405baa",
   "metadata": {},
   "source": [
    "# Benchmark varying downsampling ratios"
   ]
  },
  {
   "cell_type": "code",
   "execution_count": 9,
   "id": "6b5f8e6a",
   "metadata": {},
   "outputs": [],
   "source": [
    "conf = credentials_refactor.return_credentials()"
   ]
  },
  {
   "cell_type": "code",
   "execution_count": 5,
   "id": "9ec3d4d3",
   "metadata": {},
   "outputs": [],
   "source": [
    "path_140 = f'{gs.data_path}/nlp/embeddings/140'\n",
    "data_emb = np.load(path_140+'/development_140_final_permanent.npy')\n",
    "test_emb = np.load(path_140+'/development_140_final_new_permanent.npy')"
   ]
  },
  {
   "cell_type": "code",
   "execution_count": 18,
   "id": "7cc7a49c",
   "metadata": {
    "code_folding": [
     3
    ]
   },
   "outputs": [
    {
     "name": "stdout",
     "output_type": "stream",
     "text": [
      "110000\n",
      "--- Data done ---\n",
      "--- Done training ---\n",
      "--- Done imbalance: 0.4545 ---\n",
      "\n",
      "120000\n",
      "--- Data done ---\n",
      "--- Done training ---\n",
      "--- Done imbalance: 0.4167 ---\n",
      "\n",
      "130000\n",
      "--- Data done ---\n",
      "--- Done training ---\n",
      "--- Done imbalance: 0.3846 ---\n",
      "\n",
      "140000\n",
      "--- Data done ---\n",
      "--- Done training ---\n",
      "--- Done imbalance: 0.3571 ---\n",
      "\n",
      "150000\n",
      "--- Data done ---\n",
      "--- Done training ---\n",
      "--- Done imbalance: 0.3333 ---\n",
      "\n",
      "160000\n",
      "--- Data done ---\n",
      "--- Done training ---\n",
      "--- Done imbalance: 0.3125 ---\n",
      "\n",
      "170000\n",
      "--- Data done ---\n",
      "--- Done training ---\n",
      "--- Done imbalance: 0.2941 ---\n",
      "\n",
      "180000\n",
      "--- Data done ---\n",
      "--- Done training ---\n",
      "--- Done imbalance: 0.2778 ---\n",
      "\n",
      "190000\n",
      "--- Data done ---\n",
      "--- Done training ---\n",
      "--- Done imbalance: 0.2632 ---\n",
      "\n",
      "200000\n",
      "--- Data done ---\n",
      "--- Done training ---\n",
      "--- Done imbalance: 0.25 ---\n",
      "\n"
     ]
    }
   ],
   "source": [
    "results = {}\n",
    "for i in range(1,11):\n",
    "    human_increment = 10000*i\n",
    "    query_temp = f'''\n",
    "                    select*\n",
    "                    from ( \n",
    "                        select *\n",
    "                        from tweetcore.migration_development\n",
    "                        where label = 'human'\n",
    "                        order by index\n",
    "                        limit 50000 + {human_increment}\n",
    "                    ) t0\n",
    "                    union all\n",
    "                    select *\n",
    "                    from ( \n",
    "                        select *\n",
    "                        from tweetcore.migration_development\n",
    "                        where label = 'bot'\n",
    "                        order by index\n",
    "                        limit 50000 \n",
    "                    ) t0\n",
    "                    '''\n",
    "    data_imb = download_data.pandas_df_from_postgre_query(configuration = conf ,\n",
    "                                                  query =query_temp)\n",
    "    print(data_imb.shape[0])\n",
    "    print('--- Data done ---')\n",
    "    data_imb.loc[:,\"target\"] = data_imb.label.map(lambda x: 1 if x=='bot' else 0)\n",
    "    data_random_imb = data_imb.sample(frac=1).copy()\n",
    "    \n",
    "    # training \n",
    "    model_imb = LogisticRegression(max_iter=10000)\n",
    "    model_imb.fit(data_emb[list(data_random_imb[\"index\"].values)],data_random_imb.target)\n",
    "    print('--- Done training ---')\n",
    "    \n",
    "    # performance\n",
    "    imbalance = round(sum(data_random_imb.target)/len(data_random_imb.target),4)\n",
    "    y_test1 = test_random.target\n",
    "    y_pred = model_imb.predict(test_emb[list(test_random[\"index\"].values-550000)])\n",
    "    results[imbalance] = classification_report(y_test1, y_pred, output_dict=True)\n",
    "    \n",
    "    print(f'--- Done imbalance: {imbalance} ---\\n')\n",
    "    del data_imb, data_random_imb\n",
    "    gc.collect()"
   ]
  },
  {
   "cell_type": "code",
   "execution_count": 27,
   "id": "800ae3f0",
   "metadata": {},
   "outputs": [
    {
     "data": {
      "text/plain": [
       "{0.4545: {'0': {'precision': 0.7692327630896838,\n",
       "   'recall': 0.7777399234760731,\n",
       "   'f1-score': 0.7734629518621804,\n",
       "   'support': 38158},\n",
       "  '1': {'precision': 0.25735551663747813,\n",
       "   'recall': 0.24818442830602938,\n",
       "   'f1-score': 0.2526867853151062,\n",
       "   'support': 11842},\n",
       "  'accuracy': 0.65232,\n",
       "  'macro avg': {'precision': 0.513294139863581,\n",
       "   'recall': 0.5129621758910512,\n",
       "   'f1-score': 0.5130748685886433,\n",
       "   'support': 50000},\n",
       "  'weighted avg': {'precision': 0.6479997560399434,\n",
       "   'recall': 0.65232,\n",
       "   'f1-score': 0.6501223245771713,\n",
       "   'support': 50000}},\n",
       " 0.4167: {'0': {'precision': 0.7678563173223614,\n",
       "   'recall': 0.8705644949944966,\n",
       "   'f1-score': 0.815991156963891,\n",
       "   'support': 38158},\n",
       "  '1': {'precision': 0.2669931730483823,\n",
       "   'recall': 0.15191690592805268,\n",
       "   'f1-score': 0.1936490850376749,\n",
       "   'support': 11842},\n",
       "  'accuracy': 0.70036,\n",
       "  'macro avg': {'precision': 0.5174247451853718,\n",
       "   'recall': 0.5112407004612747,\n",
       "   'f1-score': 0.504820121000783,\n",
       "   'support': 50000},\n",
       "  'weighted avg': {'precision': 0.6492318902325122,\n",
       "   'recall': 0.70036,\n",
       "   'f1-score': 0.668595660648886,\n",
       "   'support': 50000}},\n",
       " 0.3846: {'0': {'precision': 0.767204371016001,\n",
       "   'recall': 0.9273284763352377,\n",
       "   'f1-score': 0.8397009966777409,\n",
       "   'support': 38158},\n",
       "  '1': {'precision': 0.2849406910778752,\n",
       "   'recall': 0.09331194055058267,\n",
       "   'f1-score': 0.1405852417302799,\n",
       "   'support': 11842},\n",
       "  'accuracy': 0.7298,\n",
       "  'macro avg': {'precision': 0.5260725310469381,\n",
       "   'recall': 0.5103202084429102,\n",
       "   'f1-score': 0.4901431192040104,\n",
       "   'support': 50000},\n",
       "  'weighted avg': {'precision': 0.6529850410594553,\n",
       "   'recall': 0.7298,\n",
       "   'f1-score': 0.6741224212759842,\n",
       "   'support': 50000}},\n",
       " 0.3571: {'0': {'precision': 0.7661371447732417,\n",
       "   'recall': 0.9580428743644845,\n",
       "   'f1-score': 0.8514102056501386,\n",
       "   'support': 38158},\n",
       "  '1': {'precision': 0.29903677758318736,\n",
       "   'recall': 0.057676068231717614,\n",
       "   'f1-score': 0.0967011185048846,\n",
       "   'support': 11842},\n",
       "  'accuracy': 0.7448,\n",
       "  'macro avg': {'precision': 0.5325869611782146,\n",
       "   'recall': 0.507859471298101,\n",
       "   'f1-score': 0.4740556620775116,\n",
       "   'support': 50000},\n",
       "  'weighted avg': {'precision': 0.6555090938079492,\n",
       "   'recall': 0.7448,\n",
       "   'f1-score': 0.6726649054506567,\n",
       "   'support': 50000}},\n",
       " 0.3333: {'0': {'precision': 0.7652750329380764,\n",
       "   'recall': 0.974212484931076,\n",
       "   'f1-score': 0.8571955634468604,\n",
       "   'support': 38158},\n",
       "  '1': {'precision': 0.3089887640449438,\n",
       "   'recall': 0.03715588583009627,\n",
       "   'f1-score': 0.06633499170812604,\n",
       "   'support': 11842},\n",
       "  'accuracy': 0.75228,\n",
       "  'macro avg': {'precision': 0.5371318984915101,\n",
       "   'recall': 0.5056841853805861,\n",
       "   'f1-score': 0.46176527757749325,\n",
       "   'support': 50000},\n",
       "  'weighted avg': {'precision': 0.6572081930134269,\n",
       "   'recall': 0.75228,\n",
       "   'f1-score': 0.6698881456362585,\n",
       "   'support': 50000}},\n",
       " 0.3125: {'0': {'precision': 0.7648951333740582,\n",
       "   'recall': 0.9844331463913203,\n",
       "   'f1-score': 0.8608882981161479,\n",
       "   'support': 38158},\n",
       "  '1': {'precision': 0.3325842696629214,\n",
       "   'recall': 0.02499577774024658,\n",
       "   'f1-score': 0.04649701539428212,\n",
       "   'support': 11842},\n",
       "  'accuracy': 0.7572,\n",
       "  'macro avg': {'precision': 0.5487397015184898,\n",
       "   'recall': 0.5047144620657834,\n",
       "   'f1-score': 0.453692656755215,\n",
       "   'support': 50000},\n",
       "  'weighted avg': {'precision': 0.6625066284127126,\n",
       "   'recall': 0.7572,\n",
       "   'f1-score': 0.6680078667163012,\n",
       "   'support': 50000}},\n",
       " 0.2941: {'0': {'precision': 0.7645654153597086,\n",
       "   'recall': 0.9901200272550972,\n",
       "   'f1-score': 0.8628458543158279,\n",
       "   'support': 38158},\n",
       "  '1': {'precision': 0.35555555555555557,\n",
       "   'recall': 0.017564600574227325,\n",
       "   'f1-score': 0.03347549690190714,\n",
       "   'support': 11842},\n",
       "  'accuracy': 0.75978,\n",
       "  'macro avg': {'precision': 0.5600604854576321,\n",
       "   'recall': 0.5038423139146623,\n",
       "   'f1-score': 0.4481606756088675,\n",
       "   'support': 50000},\n",
       "  'weighted avg': {'precision': 0.667695520163693,\n",
       "   'recall': 0.75978,\n",
       "   'f1-score': 0.6664177788659149,\n",
       "   'support': 50000}},\n",
       " 0.2778: {'0': {'precision': 0.7645374626986047,\n",
       "   'recall': 0.9937103621783112,\n",
       "   'f1-score': 0.8641885270187113,\n",
       "   'support': 38158},\n",
       "  '1': {'precision': 0.40594059405940597,\n",
       "   'recall': 0.0138490119912177,\n",
       "   'f1-score': 0.026784256083619142,\n",
       "   'support': 11842},\n",
       "  'accuracy': 0.76164,\n",
       "  'macro avg': {'precision': 0.5852390283790053,\n",
       "   'recall': 0.5037796870847645,\n",
       "   'f1-score': 0.4454863915511652,\n",
       "   'support': 50000},\n",
       "  'weighted avg': {'precision': 0.6796073803300969,\n",
       "   'recall': 0.76164,\n",
       "   'f1-score': 0.665857699490444,\n",
       "   'support': 50000}},\n",
       " 0.2632: {'0': {'precision': 0.7643486304951133,\n",
       "   'recall': 0.9960689763614445,\n",
       "   'f1-score': 0.864958354194165,\n",
       "   'support': 38158},\n",
       "  '1': {'precision': 0.45255474452554745,\n",
       "   'recall': 0.010471204188481676,\n",
       "   'f1-score': 0.020468801584681413,\n",
       "   'support': 11842},\n",
       "  'accuracy': 0.76264,\n",
       "  'macro avg': {'precision': 0.6084516875103303,\n",
       "   'recall': 0.5032700902749631,\n",
       "   'f1-score': 0.4427135778894232,\n",
       "   'support': 50000},\n",
       "  'weighted avg': {'precision': 0.6905033665420813,\n",
       "   'recall': 0.76264,\n",
       "   'f1-score': 0.6649494485541348,\n",
       "   'support': 50000}},\n",
       " 0.25: {'0': {'precision': 0.7641306748589443,\n",
       "   'recall': 0.9973269039257823,\n",
       "   'f1-score': 0.8652925728447836,\n",
       "   'support': 38158},\n",
       "  '1': {'precision': 0.48223350253807107,\n",
       "   'recall': 0.008022293531498057,\n",
       "   'f1-score': 0.01578204169781543,\n",
       "   'support': 11842},\n",
       "  'accuracy': 0.76302,\n",
       "  'macro avg': {'precision': 0.6231820886985077,\n",
       "   'recall': 0.5026745987286402,\n",
       "   'f1-score': 0.44053730727129947,\n",
       "   'support': 50000},\n",
       "  'weighted avg': {'precision': 0.6973661485664686,\n",
       "   'recall': 0.76302,\n",
       "   'f1-score': 0.6640944986479357,\n",
       "   'support': 50000}}}"
      ]
     },
     "execution_count": 27,
     "metadata": {},
     "output_type": "execute_result"
    }
   ],
   "source": [
    "results"
   ]
  },
  {
   "cell_type": "markdown",
   "id": "c259a031",
   "metadata": {},
   "source": [
    "## Effect on data"
   ]
  },
  {
   "cell_type": "code",
   "execution_count": 2,
   "id": "61adc32f",
   "metadata": {},
   "outputs": [],
   "source": [
    "path_140 = f'{gs.data_path}/nlp/embeddings/140'\n",
    "a = np.load(path_140+'/development_140_final_permanent.npy')"
   ]
  },
  {
   "cell_type": "code",
   "execution_count": 4,
   "id": "469bfd2a",
   "metadata": {},
   "outputs": [
    {
     "data": {
      "text/plain": [
       "array([[ 0.0834819 , -0.00376278,  0.2954853 , ...,  0.00209416,\n",
       "        -0.00044725, -0.03948679],\n",
       "       [ 0.1633248 , -0.0378776 ,  0.14849399, ..., -0.0316375 ,\n",
       "        -0.04201998,  0.34096443],\n",
       "       [-0.04395941, -0.28131193,  0.26860944, ..., -0.03856604,\n",
       "         0.02407258, -0.15145411],\n",
       "       ...,\n",
       "       [ 0.13575707, -0.01304994,  0.18076054, ..., -0.03827782,\n",
       "        -0.19625903, -0.04933203],\n",
       "       [-0.00779551, -0.02711803,  0.10427203, ..., -0.02906885,\n",
       "        -0.12142759,  0.04888946],\n",
       "       [ 0.05977851, -0.06536224,  0.22635887, ...,  0.06177156,\n",
       "        -0.06707874,  0.04495548]])"
      ]
     },
     "execution_count": 4,
     "metadata": {},
     "output_type": "execute_result"
    }
   ],
   "source": [
    "a[:100]"
   ]
  },
  {
   "cell_type": "markdown",
   "id": "1e6520be",
   "metadata": {
    "heading_collapsed": true
   },
   "source": [
    "# Might be needed later"
   ]
  },
  {
   "cell_type": "code",
   "execution_count": null,
   "id": "3c073440",
   "metadata": {
    "hidden": true
   },
   "outputs": [],
   "source": [
    "dummy_tweet = '''\n",
    "\n",
    "    This is a dummy text to max out the number of tokens. This is a dummy text to max out the number of tokens. This \n",
    "    is a dummy text to max out the number of tokens. This is a dummy text to max out the number of tokens. This is a \n",
    "    dummy text to max out the number of tokens .This is a dummy text to max out the number of tokens. This is a dummy \n",
    "    text to max out the number of tokens. This is a dummy text to max out the number of tokens. This is a dummy text \n",
    "    to max out the number of tokens. This is a dummy text to max out the number of tokens. This is a dummy text to \n",
    "    max out the number of tokens. This is a dummy text to max out the number of tokens. This is a dummy text to max \n",
    "    out the number of tokens. This is a dummy text to max out the number of tokens. This is a dummy text to max out \n",
    "    the number of tokens .This is a dummy text to max out the number of tokens. This is a dummy text to max out the \n",
    "    number of tokens. This is a dummy text to max out the number of tokens. This is a dummy text to max out the \n",
    "    number of tokens. This is a dummy text to max out the number of tokens \n",
    "\n",
    "'''"
   ]
  },
  {
   "cell_type": "code",
   "execution_count": null,
   "id": "4ca622c8",
   "metadata": {
    "hidden": true
   },
   "outputs": [],
   "source": [
    "model_name='distilbert-base-uncased'\n",
    "splits=1\n",
    "tokenizer = AutoTokenizer.from_pretrained(model_name)\n",
    "model = AutoModel.from_pretrained(model_name).to('cuda')\n",
    "tokens = tokenizer([dummy_tweet]+list(data.head(100).text.values) ,\n",
    "                   truncation=True, \n",
    "                   max_length=140,\n",
    "                   return_tensors='pt', \n",
    "                   padding=True).to('cuda')\n",
    "    \n",
    "ids = np.array_split(tokens.input_ids[1:,:], splits)\n",
    "attentions = np.array_split(tokens.attention_mask[1:,:], splits)\n",
    "embd_batch = model(input_ids=ids[0],\n",
    "                           attention_mask=attentions[0],\n",
    "                           output_attentions=False, \n",
    "                           output_hidden_states=False)"
   ]
  },
  {
   "cell_type": "code",
   "execution_count": null,
   "id": "c0f9816b",
   "metadata": {
    "hidden": true
   },
   "outputs": [],
   "source": [
    "emb = embd_batch.last_hidden_state.to('cpu').detach().numpy()"
   ]
  },
  {
   "cell_type": "code",
   "execution_count": null,
   "id": "483ecfd6",
   "metadata": {
    "hidden": true
   },
   "outputs": [],
   "source": [
    "ans = np.mean(emb, axis=1)"
   ]
  },
  {
   "cell_type": "code",
   "execution_count": null,
   "id": "7ce5d7e6",
   "metadata": {
    "hidden": true
   },
   "outputs": [],
   "source": [
    "ans[0]"
   ]
  },
  {
   "cell_type": "code",
   "execution_count": null,
   "id": "117277a2",
   "metadata": {
    "hidden": true
   },
   "outputs": [],
   "source": [
    "X_train_emb[381]"
   ]
  },
  {
   "cell_type": "code",
   "execution_count": null,
   "id": "25773a90",
   "metadata": {
    "hidden": true
   },
   "outputs": [],
   "source": [
    "y_train.values[52521]"
   ]
  },
  {
   "cell_type": "code",
   "execution_count": null,
   "id": "83ad03db",
   "metadata": {
    "hidden": true
   },
   "outputs": [],
   "source": [
    "b = np.load(gs.data_path+'/nlp/embeddings/140' + '/development_140_50.npy',mmap_mode='r')"
   ]
  },
  {
   "cell_type": "code",
   "execution_count": null,
   "id": "144376cf",
   "metadata": {
    "hidden": true
   },
   "outputs": [],
   "source": [
    "np.mean(b[1],axis=0)"
   ]
  },
  {
   "cell_type": "code",
   "execution_count": null,
   "id": "b4f19520",
   "metadata": {
    "hidden": true
   },
   "outputs": [],
   "source": [
    "emb[0][0]"
   ]
  },
  {
   "cell_type": "code",
   "execution_count": null,
   "id": "f680e9fc",
   "metadata": {
    "hidden": true
   },
   "outputs": [],
   "source": [
    "a[0].shape"
   ]
  },
  {
   "cell_type": "code",
   "execution_count": null,
   "id": "451de9f3",
   "metadata": {
    "hidden": true
   },
   "outputs": [],
   "source": [
    "emb.shape"
   ]
  },
  {
   "cell_type": "code",
   "execution_count": null,
   "id": "e185b920",
   "metadata": {
    "hidden": true
   },
   "outputs": [],
   "source": [
    "b = np.load(gs.data_path+'/nlp/embeddings/140' + '/development_140_3950.npy',mmap_mode='r')"
   ]
  },
  {
   "cell_type": "code",
   "execution_count": null,
   "id": "341c1acd",
   "metadata": {
    "hidden": true
   },
   "outputs": [],
   "source": [
    "save_path = gs.data_path+'/nlp/embeddings/140' + '/development_140'"
   ]
  },
  {
   "cell_type": "code",
   "execution_count": null,
   "id": "bf40963f",
   "metadata": {
    "hidden": true
   },
   "outputs": [],
   "source": [
    "save_path"
   ]
  },
  {
   "cell_type": "code",
   "execution_count": null,
   "id": "cce2f2a6",
   "metadata": {
    "hidden": true
   },
   "outputs": [],
   "source": [
    "representation = np.zeros((1, gs.max_char_tweet, 768))\n",
    "np.save(f'{save_path}_final', representation[1:, :, :])"
   ]
  },
  {
   "cell_type": "code",
   "execution_count": null,
   "id": "b4578ab5",
   "metadata": {
    "hidden": true
   },
   "outputs": [],
   "source": [
    "representation[1:, :, :]"
   ]
  },
  {
   "cell_type": "code",
   "execution_count": null,
   "id": "4c695e6e",
   "metadata": {
    "hidden": true
   },
   "outputs": [],
   "source": [
    "path_140 = f'{gs.data_path}/nlp/embeddings/140'\n",
    "a = np.load(f'{gs.data_path}/nlp/embeddings/140/development_140_50.npy', mmap_mode='r' )\n",
    "#b = np.load('../../data/nlp/embeddings/development_140_100.npy', mmap_mode='r' )"
   ]
  },
  {
   "cell_type": "code",
   "execution_count": null,
   "id": "4addbf04",
   "metadata": {
    "hidden": true
   },
   "outputs": [],
   "source": [
    "a"
   ]
  },
  {
   "cell_type": "code",
   "execution_count": null,
   "id": "77caef09",
   "metadata": {
    "hidden": true
   },
   "outputs": [],
   "source": [
    "a.shape"
   ]
  },
  {
   "cell_type": "code",
   "execution_count": null,
   "id": "e707efd9",
   "metadata": {
    "hidden": true
   },
   "outputs": [],
   "source": [
    "from transformers import DistilBertTokenizer, DistilBertModel\n",
    "import torch\n",
    "\n",
    "tokenizer = DistilBertTokenizer.from_pretrained('distilbert-base-uncased')\n",
    "model = DistilBertModel.from_pretrained('distilbert-base-uncased')\n",
    "\n",
    "inputs = tokenizer([dummy_tweet]+[\"Hello, my dog is cute\"] + list(data.head(100).text.values),                  \n",
    "                   truncation=True, \n",
    "                   max_length=140,\n",
    "                   return_tensors='pt', \n",
    "                   padding=True)\n",
    "outputs = model(input_ids=inputs.input_ids[1:],\n",
    "                attention_mask=inputs.attention_mask[1:],)\n",
    "\n",
    "last_hidden_states = outputs[0].to('cpu').detach().numpy()"
   ]
  },
  {
   "cell_type": "code",
   "execution_count": null,
   "id": "9114f87b",
   "metadata": {
    "hidden": true
   },
   "outputs": [],
   "source": [
    "(last_hidden_states[0][0] == last_hidden_states_s[0][0]).all()"
   ]
  },
  {
   "cell_type": "code",
   "execution_count": null,
   "id": "be646551",
   "metadata": {
    "hidden": true
   },
   "outputs": [],
   "source": [
    "last_hidden_states[0][0]"
   ]
  },
  {
   "cell_type": "code",
   "execution_count": null,
   "id": "1638836d",
   "metadata": {
    "hidden": true
   },
   "outputs": [],
   "source": [
    "last_hidden_states_s[0][0]"
   ]
  }
 ],
 "metadata": {
  "kernelspec": {
   "display_name": "Python 3",
   "language": "python",
   "name": "python3"
  },
  "language_info": {
   "codemirror_mode": {
    "name": "ipython",
    "version": 3
   },
   "file_extension": ".py",
   "mimetype": "text/x-python",
   "name": "python",
   "nbconvert_exporter": "python",
   "pygments_lexer": "ipython3",
   "version": "3.8.8"
  }
 },
 "nbformat": 4,
 "nbformat_minor": 5
}
