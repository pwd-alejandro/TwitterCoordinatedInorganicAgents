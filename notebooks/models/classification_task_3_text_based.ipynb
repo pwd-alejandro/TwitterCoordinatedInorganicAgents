{
 "cells": [
  {
   "cell_type": "code",
   "execution_count": 1,
   "id": "34bc1cdb",
   "metadata": {
    "code_folding": [
     0
    ]
   },
   "outputs": [],
   "source": [
    "# imports\n",
    "import sys  \n",
    "sys.path.insert(0, '../../../TwitterCoordinatedInorganicAgents')\n",
    "\n",
    "import torch\n",
    "import pandas as pd\n",
    "import seaborn as sns\n",
    "import matplotlib.pyplot as plt\n",
    "from transformers import AutoModel\n",
    "from transformers import AutoTokenizer\n",
    "import numpy as np\n",
    "from tweetcore.tasks.postgres_target import download_data\n",
    "from tweetcore.tasks.classification_task.classification_utils import make_report, bagging_models  \n",
    "from data_builders.tasks import collapse_embeddings\n",
    "import credentials_refactor\n",
    "import global_settings as gs\n",
    "import gc\n",
    "\n",
    "# models\n",
    "from sklearn.linear_model import LogisticRegression\n",
    "from sklearn.neighbors import KNeighborsClassifier\n",
    "from sklearn.ensemble import RandomForestClassifier\n",
    "from xgboost import XGBClassifier\n",
    "from sklearn.svm import SVC\n",
    "from sklearn.dummy import DummyClassifier\n",
    "import tensorflow as tf\n",
    "\n",
    "# model utils\n",
    "from sklearn.model_selection import train_test_split, cross_validate\n",
    "from sklearn.metrics import fbeta_score, make_scorer, accuracy_score, f1_score, roc_auc_score, accuracy_score, precision_score, recall_score, classification_report, roc_curve, auc, confusion_matrix, precision_recall_curve\n",
    "from sklearn.decomposition import PCA\n",
    "from sklearn.preprocessing import StandardScaler\n",
    "from sklearn.feature_selection import SelectFromModel\n",
    "from category_encoders import leave_one_out, cat_boost, target_encoder\n",
    "from scipy.special import softmax"
   ]
  },
  {
   "cell_type": "markdown",
   "id": "eda9672f",
   "metadata": {},
   "source": [
    "# Getting data"
   ]
  },
  {
   "cell_type": "code",
   "execution_count": 2,
   "id": "564441e4",
   "metadata": {},
   "outputs": [
    {
     "ename": "MemoryError",
     "evalue": "",
     "output_type": "error",
     "traceback": [
      "\u001b[1;31m---------------------------------------------------------------------------\u001b[0m",
      "\u001b[1;31mMemoryError\u001b[0m                               Traceback (most recent call last)",
      "\u001b[1;32m<ipython-input-2-b6ebf923bc9d>\u001b[0m in \u001b[0;36m<module>\u001b[1;34m\u001b[0m\n\u001b[0;32m      1\u001b[0m \u001b[1;31m# data\u001b[0m\u001b[1;33m\u001b[0m\u001b[1;33m\u001b[0m\u001b[1;33m\u001b[0m\u001b[0m\n\u001b[0;32m      2\u001b[0m \u001b[0mconf\u001b[0m \u001b[1;33m=\u001b[0m \u001b[0mcredentials_refactor\u001b[0m\u001b[1;33m.\u001b[0m\u001b[0mreturn_credentials\u001b[0m\u001b[1;33m(\u001b[0m\u001b[1;33m)\u001b[0m\u001b[1;33m\u001b[0m\u001b[1;33m\u001b[0m\u001b[0m\n\u001b[1;32m----> 3\u001b[1;33m data = download_data.pandas_df_from_postgre_query(configuration = conf ,\n\u001b[0m\u001b[0;32m      4\u001b[0m                                                   query = '''\n\u001b[0;32m      5\u001b[0m                                                           \u001b[0mselect\u001b[0m \u001b[1;33m*\u001b[0m\u001b[1;33m\u001b[0m\u001b[1;33m\u001b[0m\u001b[0m\n",
      "\u001b[1;32m~\\RabbitHole2.0\\TwitterCoordinatedInorganicAgents\\tweetcore\\tasks\\postgres_target\\download_data.py\u001b[0m in \u001b[0;36mpandas_df_from_postgre_query\u001b[1;34m(configuration, query)\u001b[0m\n\u001b[0;32m      5\u001b[0m def pandas_df_from_postgre_query(configuration: dict = None,\n\u001b[0;32m      6\u001b[0m                                  query: str = None) -> pd.DataFrame:\n\u001b[1;32m----> 7\u001b[1;33m     result, cursor = execute_query.execute_postgre_query(configuration,\n\u001b[0m\u001b[0;32m      8\u001b[0m                                                          \u001b[0mquery\u001b[0m\u001b[1;33m,\u001b[0m\u001b[1;33m\u001b[0m\u001b[1;33m\u001b[0m\u001b[0m\n\u001b[0;32m      9\u001b[0m                                                          with_cursor=True)\n",
      "\u001b[1;32m~\\RabbitHole2.0\\TwitterCoordinatedInorganicAgents\\tweetcore\\tasks\\postgres_target\\execute_query.py\u001b[0m in \u001b[0;36mexecute_postgre_query\u001b[1;34m(configuration, query, with_cursor)\u001b[0m\n\u001b[0;32m     10\u001b[0m         \u001b[1;32mif\u001b[0m \u001b[0mwith_cursor\u001b[0m\u001b[1;33m:\u001b[0m\u001b[1;33m\u001b[0m\u001b[1;33m\u001b[0m\u001b[0m\n\u001b[0;32m     11\u001b[0m             \u001b[0mcursor\u001b[0m\u001b[1;33m.\u001b[0m\u001b[0mexecute\u001b[0m\u001b[1;33m(\u001b[0m\u001b[0mquery\u001b[0m\u001b[1;33m)\u001b[0m\u001b[1;33m\u001b[0m\u001b[1;33m\u001b[0m\u001b[0m\n\u001b[1;32m---> 12\u001b[1;33m             \u001b[0mres\u001b[0m \u001b[1;33m=\u001b[0m \u001b[0mcursor\u001b[0m\u001b[1;33m.\u001b[0m\u001b[0mfetchall\u001b[0m\u001b[1;33m(\u001b[0m\u001b[1;33m)\u001b[0m\u001b[1;33m\u001b[0m\u001b[1;33m\u001b[0m\u001b[0m\n\u001b[0m\u001b[0;32m     13\u001b[0m             \u001b[0mcursor\u001b[0m\u001b[1;33m.\u001b[0m\u001b[0mclose\u001b[0m\u001b[1;33m(\u001b[0m\u001b[1;33m)\u001b[0m\u001b[1;33m\u001b[0m\u001b[1;33m\u001b[0m\u001b[0m\n\u001b[0;32m     14\u001b[0m             \u001b[1;32mreturn\u001b[0m \u001b[0mres\u001b[0m\u001b[1;33m,\u001b[0m \u001b[0mcursor\u001b[0m\u001b[1;33m\u001b[0m\u001b[1;33m\u001b[0m\u001b[0m\n",
      "\u001b[1;31mMemoryError\u001b[0m: "
     ]
    }
   ],
   "source": [
    "# data\n",
    "conf = credentials_refactor.return_credentials()\n",
    "data = download_data.pandas_df_from_postgre_query(configuration = conf ,\n",
    "                                                  query = '''\n",
    "                                                          select *\n",
    "                                                          from redacted_tables.tweets_text_classification\n",
    "                                                          ''')"
   ]
  },
  {
   "cell_type": "code",
   "execution_count": null,
   "id": "fe5367d0",
   "metadata": {},
   "outputs": [],
   "source": [
    "data.info()"
   ]
  }
 ],
 "metadata": {
  "kernelspec": {
   "display_name": "Python 3",
   "language": "python",
   "name": "python3"
  },
  "language_info": {
   "codemirror_mode": {
    "name": "ipython",
    "version": 3
   },
   "file_extension": ".py",
   "mimetype": "text/x-python",
   "name": "python",
   "nbconvert_exporter": "python",
   "pygments_lexer": "ipython3",
   "version": "3.8.8"
  }
 },
 "nbformat": 4,
 "nbformat_minor": 5
}
