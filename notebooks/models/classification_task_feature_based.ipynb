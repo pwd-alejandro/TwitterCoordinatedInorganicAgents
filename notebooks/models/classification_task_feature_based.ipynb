{
 "cells": [
  {
   "cell_type": "code",
   "execution_count": 18,
   "id": "ba8912dc",
   "metadata": {
    "code_folding": []
   },
   "outputs": [],
   "source": [
    "# imports\n",
    "import sys  \n",
    "sys.path.insert(0, '../../../TwitterCoordinatedInorganicAgents')\n",
    "\n",
    "import torch\n",
    "import pandas as pd\n",
    "import seaborn as sns\n",
    "import matplotlib.pyplot as plt\n",
    "from transformers import AutoModel\n",
    "from transformers import AutoTokenizer\n",
    "import numpy as np\n",
    "from tweetcore.tasks.postgres_target import download_data\n",
    "from tweetcore.tasks.classification_task.utils import make_report  \n",
    "from data_builders.tasks import collapse_embeddings\n",
    "import credentials_refactor\n",
    "import global_settings as gs\n",
    "import gc\n",
    "\n",
    "# models\n",
    "from sklearn.linear_model import LogisticRegression\n",
    "from sklearn.neighbors import KNeighborsClassifier\n",
    "from sklearn.ensemble import RandomForestClassifier\n",
    "from xgboost import XGBClassifier\n",
    "from sklearn.svm import SVC\n",
    "\n",
    "# model utils\n",
    "from sklearn.metrics import fbeta_score, make_scorer\n",
    "from sklearn.model_selection import train_test_split, cross_validate\n",
    "from sklearn.metrics import accuracy_score, f1_score, classification_report, roc_curve, auc, confusion_matrix, precision_recall_curve\n",
    "from sklearn.decomposition import PCA\n",
    "from sklearn.preprocessing import StandardScaler"
   ]
  },
  {
   "cell_type": "markdown",
   "id": "f8bdfda1",
   "metadata": {},
   "source": [
    "# Getting data ready"
   ]
  },
  {
   "cell_type": "code",
   "execution_count": 2,
   "id": "f8bc9d73",
   "metadata": {
    "code_folding": []
   },
   "outputs": [],
   "source": [
    "# data\n",
    "conf = credentials_refactor.return_credentials()\n",
    "data = download_data.pandas_df_from_postgre_query(configuration = conf ,\n",
    "                                                  query = '''\n",
    "                                                          select *\n",
    "                                                          from redacted_tables.features_user_classification\n",
    "                                                          limit 10000\n",
    "                                                          ''')"
   ]
  },
  {
   "cell_type": "markdown",
   "id": "cda3ed35",
   "metadata": {},
   "source": [
    "# User-based classifier"
   ]
  },
  {
   "cell_type": "markdown",
   "id": "78be44e2",
   "metadata": {},
   "source": [
    "## Getting data ready"
   ]
  },
  {
   "cell_type": "code",
   "execution_count": 3,
   "id": "2d81ed74",
   "metadata": {},
   "outputs": [],
   "source": [
    "user_based_features = [i for i in data.columns if 'uuu' in i]"
   ]
  },
  {
   "cell_type": "code",
   "execution_count": 4,
   "id": "1bc7ea96",
   "metadata": {},
   "outputs": [],
   "source": [
    "df_user = data[user_based_features + [\"target\"]].copy()"
   ]
  },
  {
   "cell_type": "code",
   "execution_count": 5,
   "id": "ef09650c",
   "metadata": {},
   "outputs": [],
   "source": [
    "df_user.fillna(-1,inplace=True)\n"
   ]
  },
  {
   "cell_type": "code",
   "execution_count": 6,
   "id": "31386ce9",
   "metadata": {},
   "outputs": [],
   "source": [
    "cast_to_int = ['uuu_year_joined', 'uuu_month_joined', 'uuu_day_of_month_joined', 'uuu_day_of_week_joined', 'uuu_hour_joined']\n",
    "for i in cast_to_int:\n",
    "    df_user.loc[:,i] = df_user[i].astype(int)"
   ]
  },
  {
   "cell_type": "code",
   "execution_count": 7,
   "id": "f9132cc8",
   "metadata": {},
   "outputs": [
    {
     "name": "stdout",
     "output_type": "stream",
     "text": [
      "<class 'pandas.core.frame.DataFrame'>\n",
      "RangeIndex: 10000 entries, 0 to 9999\n",
      "Data columns (total 35 columns):\n",
      " #   Column                                 Non-Null Count  Dtype  \n",
      "---  ------                                 --------------  -----  \n",
      " 0   uuu_year_joined                        10000 non-null  int32  \n",
      " 1   uuu_month_joined                       10000 non-null  int32  \n",
      " 2   uuu_day_of_month_joined                10000 non-null  int32  \n",
      " 3   uuu_day_of_week_joined                 10000 non-null  int32  \n",
      " 4   uuu_joined_weekend                     10000 non-null  int64  \n",
      " 5   uuu_hour_joined                        10000 non-null  int32  \n",
      " 6   uuu_username_length                    10000 non-null  int64  \n",
      " 7   uuu_fraction_numbers_username          10000 non-null  float64\n",
      " 8   uuu_fraction_emojis_username           10000 non-null  float64\n",
      " 9   uuu_fraction_capital_letters_username  10000 non-null  float64\n",
      " 10  uuu_fraction_special_char_username     10000 non-null  float64\n",
      " 11  uuu_username_words                     10000 non-null  int64  \n",
      " 12  uuu_avg_word_length_username           10000 non-null  float64\n",
      " 13  uuu_name_length                        10000 non-null  int64  \n",
      " 14  uuu_fraction_numbers_name              10000 non-null  float64\n",
      " 15  uuu_fraction_emojis_name               10000 non-null  float64\n",
      " 16  uuu_fraction_capital_letters_name      10000 non-null  float64\n",
      " 17  uuu_fraction_special_char_name         10000 non-null  float64\n",
      " 18  uuu_name_words                         10000 non-null  int64  \n",
      " 19  uuu_avg_word_length_name               10000 non-null  float64\n",
      " 20  uuu_description_tags                   10000 non-null  int64  \n",
      " 21  uuu_description_mentions               10000 non-null  int64  \n",
      " 22  uuu_description_urls                   10000 non-null  int64  \n",
      " 23  uuu_has_location                       10000 non-null  int64  \n",
      " 24  uuu_has_pinned_tweet                   10000 non-null  int64  \n",
      " 25  uuu_has_default_profile_picture        10000 non-null  int64  \n",
      " 26  uuu_following_count                    10000 non-null  int64  \n",
      " 27  uuu_following_followers_ratio          10000 non-null  float64\n",
      " 28  uuu_tweet_count                        10000 non-null  int64  \n",
      " 29  uuu_listed_tweet_ratio                 10000 non-null  float64\n",
      " 30  uuu_tweet_followers_ratio              10000 non-null  float64\n",
      " 31  uuu_number_countries_withheld          10000 non-null  int64  \n",
      " 32  uuu_is_protected                       10000 non-null  int64  \n",
      " 33  uuu_is_verified                        10000 non-null  int64  \n",
      " 34  target                                 10000 non-null  int64  \n",
      "dtypes: float64(13), int32(5), int64(17)\n",
      "memory usage: 2.5 MB\n"
     ]
    }
   ],
   "source": [
    "df_user.info()"
   ]
  },
  {
   "cell_type": "markdown",
   "id": "22d46bf2",
   "metadata": {},
   "source": [
    "## Benchmarking"
   ]
  },
  {
   "cell_type": "code",
   "execution_count": 8,
   "id": "210f54d4",
   "metadata": {},
   "outputs": [],
   "source": [
    "X = df_user.drop(columns=\"target\").copy()\n",
    "y = df_user.target.copy()\n",
    "\n",
    "X_train, X_test, y_train, y_test = train_test_split(\n",
    "                                                     X, \n",
    "                                                     y, \n",
    "                                                     test_size=0.35, \n",
    "                                                     random_state=12\n",
    "                                                    )"
   ]
  },
  {
   "cell_type": "code",
   "execution_count": 11,
   "id": "bcf07331",
   "metadata": {
    "code_folding": [
     0
    ]
   },
   "outputs": [
    {
     "name": "stdout",
     "output_type": "stream",
     "text": [
      "RandomForest with mean f0.5 over 5 folds of: 0.3873 and sigma accross test metrics of: 0.0032\n",
      "XGBoost with mean f0.5 over 5 folds of: 0.4123 and sigma accross test metrics of: 0.0023\n"
     ]
    }
   ],
   "source": [
    "# benchmark\n",
    "\n",
    "rf = RandomForestClassifier()\n",
    "xgb = XGBClassifier()\n",
    "fpointfive_scorer = make_scorer(fbeta_score, beta=0.5, pos_label=1)\n",
    "all_models = {\"RandomForest\":rf,\"XGBoost\":xgb}\n",
    "\n",
    "for name, model in zip(all_models.keys(),all_models.values()):\n",
    "    cv_results = cross_validate(model, \n",
    "                            X_train, \n",
    "                            y_train, \n",
    "                            cv=5,\n",
    "                            scoring=fpointfive_scorer)\n",
    "    print(name + \" with mean f0.5 over 5 folds of: \" + str(round(np.mean(cv_results[\"test_score\"]),4)) + \" and sigma accross test metrics of: \" + str(round(np.std(cv_results[\"test_score\"]),4)))"
   ]
  },
  {
   "cell_type": "markdown",
   "id": "d3126098",
   "metadata": {},
   "source": [
    "## Balancing classes"
   ]
  },
  {
   "cell_type": "code",
   "execution_count": 9,
   "id": "15b78910",
   "metadata": {},
   "outputs": [
    {
     "name": "stdout",
     "output_type": "stream",
     "text": [
      "5.666666666666667\n"
     ]
    }
   ],
   "source": [
    "ideal = len(y[y==0])/len(y[y==1])\n",
    "print(ideal)"
   ]
  },
  {
   "cell_type": "code",
   "execution_count": 21,
   "id": "84305473",
   "metadata": {},
   "outputs": [
    {
     "data": {
      "text/plain": [
       "array([0.1, 0.6, 1.1, 1.6, 2.1, 2.6, 3.1, 3.6, 4.1, 4.6, 5.1, 5.6, 6.1,\n",
       "       6.6, 7.1, 7.6, 8.1, 8.6, 9.1])"
      ]
     },
     "execution_count": 21,
     "metadata": {},
     "output_type": "execute_result"
    }
   ],
   "source": [
    "for scaling in np.arange(0.1,ideal + ideal*0.5,0.5):\n",
    "    xgb = XGBClassifier(\n",
    "                        eval_metric='auc', \n",
    "                        scale_pos_weight=scaling\n",
    "                        )\n",
    "    xgb.fit(X_train, y_train)"
   ]
  },
  {
   "cell_type": "code",
   "execution_count": 10,
   "id": "a0f558ca",
   "metadata": {},
   "outputs": [
    {
     "data": {
      "text/plain": [
       "XGBClassifier(base_score=0.5, booster='gbtree', callbacks=None,\n",
       "              colsample_bylevel=1, colsample_bynode=1, colsample_bytree=1,\n",
       "              early_stopping_rounds=None, enable_categorical=False,\n",
       "              eval_metric='auc', gamma=0, gpu_id=-1, grow_policy='depthwise',\n",
       "              importance_type=None, interaction_constraints='',\n",
       "              learning_rate=0.300000012, max_bin=256, max_cat_to_onehot=4,\n",
       "              max_delta_step=0, max_depth=6, max_leaves=0, min_child_weight=1,\n",
       "              missing=nan, monotone_constraints='()', n_estimators=100,\n",
       "              n_jobs=0, num_parallel_tree=1, predictor='auto', random_state=0,\n",
       "              reg_alpha=0, reg_lambda=1, ...)"
      ]
     },
     "execution_count": 10,
     "metadata": {},
     "output_type": "execute_result"
    }
   ],
   "source": [
    "xgb = XGBClassifier(eval_metric='auc', scale_pos_weight=6)\n",
    "xgb.fit(X_train, y_train)"
   ]
  },
  {
   "cell_type": "code",
   "execution_count": 21,
   "id": "10a95a81",
   "metadata": {},
   "outputs": [
    {
     "data": {
      "image/png": "[encoded data removed]",
      "text/plain": [
       "<Figure size 1080x360 with 3 Axes>"
      ]
     },
     "metadata": {
      "needs_background": "light"
     },
     "output_type": "display_data"
    }
   ],
   "source": [
    "make_report(model = xgb,\n",
    "            y_test = y_test, \n",
    "            x_test = X_test,  \n",
    "            include = ['class_report', 'roc', 'pr'], \n",
    "            pad=1,\n",
    "            scale=5)"
   ]
  },
  {
   "cell_type": "code",
   "execution_count": 12,
   "id": "114cda46",
   "metadata": {},
   "outputs": [
    {
     "ename": "NameError",
     "evalue": "name 'xgb' is not defined",
     "output_type": "error",
     "traceback": [
      "\u001b[1;31m---------------------------------------------------------------------------\u001b[0m",
      "\u001b[1;31mNameError\u001b[0m                                 Traceback (most recent call last)",
      "\u001b[1;32m<ipython-input-12-00e74433007e>\u001b[0m in \u001b[0;36m<module>\u001b[1;34m\u001b[0m\n\u001b[1;32m----> 1\u001b[1;33m \u001b[0mxgb\u001b[0m\u001b[1;33m\u001b[0m\u001b[1;33m\u001b[0m\u001b[0m\n\u001b[0m",
      "\u001b[1;31mNameError\u001b[0m: name 'xgb' is not defined"
     ]
    }
   ],
   "source": [
    "xgb"
   ]
  },
  {
   "cell_type": "code",
   "execution_count": 17,
   "id": "e3e9d34a",
   "metadata": {},
   "outputs": [
    {
     "ename": "NameError",
     "evalue": "name 'output_dict' is not defined",
     "output_type": "error",
     "traceback": [
      "\u001b[1;31m---------------------------------------------------------------------------\u001b[0m",
      "\u001b[1;31mNameError\u001b[0m                                 Traceback (most recent call last)",
      "\u001b[1;32m<ipython-input-17-3e4a8a769088>\u001b[0m in \u001b[0;36m<module>\u001b[1;34m\u001b[0m\n\u001b[0;32m      1\u001b[0m \u001b[0mpredicted\u001b[0m \u001b[1;33m=\u001b[0m \u001b[0mxgb\u001b[0m\u001b[1;33m.\u001b[0m\u001b[0mpredict\u001b[0m\u001b[1;33m(\u001b[0m\u001b[0mX_test\u001b[0m\u001b[1;33m)\u001b[0m\u001b[1;33m\u001b[0m\u001b[1;33m\u001b[0m\u001b[0m\n\u001b[1;32m----> 2\u001b[1;33m \u001b[0mprint\u001b[0m\u001b[1;33m(\u001b[0m\u001b[0mclassification_report\u001b[0m\u001b[1;33m(\u001b[0m\u001b[0my_test\u001b[0m\u001b[1;33m,\u001b[0m\u001b[0mpredicted\u001b[0m\u001b[1;33m,\u001b[0m\u001b[0moutput_dict\u001b[0m\u001b[1;33m)\u001b[0m\u001b[1;33m)\u001b[0m\u001b[1;33m\u001b[0m\u001b[1;33m\u001b[0m\u001b[0m\n\u001b[0m",
      "\u001b[1;31mNameError\u001b[0m: name 'output_dict' is not defined"
     ]
    }
   ],
   "source": [
    "predicted = xgb.predict(X_test)\n",
    "print(classification_report(y_test,predicted,output_dict=True))"
   ]
  },
  {
   "cell_type": "code",
   "execution_count": 20,
   "id": "5fe286bb",
   "metadata": {},
   "outputs": [
    {
     "name": "stdout",
     "output_type": "stream",
     "text": [
      "              precision    recall  f1-score   support\n",
      "\n",
      "           0       0.90      0.91      0.91      2988\n",
      "           1       0.45      0.42      0.43       512\n",
      "\n",
      "    accuracy                           0.84      3500\n",
      "   macro avg       0.68      0.67      0.67      3500\n",
      "weighted avg       0.84      0.84      0.84      3500\n",
      "\n"
     ]
    }
   ],
   "source": [
    "print(classification_report(y_test,predicted,output_dict=False))"
   ]
  },
  {
   "cell_type": "code",
   "execution_count": 109,
   "id": "789ea7e5",
   "metadata": {},
   "outputs": [
    {
     "data": {
      "text/html": [
       "<div>\n",
       "<style scoped>\n",
       "    .dataframe tbody tr th:only-of-type {\n",
       "        vertical-align: middle;\n",
       "    }\n",
       "\n",
       "    .dataframe tbody tr th {\n",
       "        vertical-align: top;\n",
       "    }\n",
       "\n",
       "    .dataframe thead th {\n",
       "        text-align: right;\n",
       "    }\n",
       "</style>\n",
       "<table border=\"1\" class=\"dataframe\">\n",
       "  <thead>\n",
       "    <tr style=\"text-align: right;\">\n",
       "      <th></th>\n",
       "      <th>precision</th>\n",
       "      <th>recall</th>\n",
       "      <th>f1-score</th>\n",
       "      <th>support</th>\n",
       "    </tr>\n",
       "  </thead>\n",
       "  <tbody>\n",
       "    <tr>\n",
       "      <th>0</th>\n",
       "      <td>0.901753</td>\n",
       "      <td>0.912316</td>\n",
       "      <td>0.907004</td>\n",
       "      <td>2988.0</td>\n",
       "    </tr>\n",
       "    <tr>\n",
       "      <th>1</th>\n",
       "      <td>0.450734</td>\n",
       "      <td>0.419922</td>\n",
       "      <td>0.434783</td>\n",
       "      <td>512.0</td>\n",
       "    </tr>\n",
       "  </tbody>\n",
       "</table>\n",
       "</div>"
      ],
      "text/plain": [
       "   precision    recall  f1-score  support\n",
       "0   0.901753  0.912316  0.907004   2988.0\n",
       "1   0.450734  0.419922  0.434783    512.0"
      ]
     },
     "execution_count": 109,
     "metadata": {},
     "output_type": "execute_result"
    }
   ],
   "source": [
    "report = classification_report(y_test,predicted,output_dict=True)\n",
    "df_report = pd.DataFrame(data=report)[['0','1']].T\n",
    "df_report"
   ]
  },
  {
   "cell_type": "code",
   "execution_count": 105,
   "id": "7b0153ab",
   "metadata": {},
   "outputs": [
    {
     "data": {
      "text/plain": [
       "{'0': {'precision': 0.9017532252729077,\n",
       "  'recall': 0.9123159303882196,\n",
       "  'f1-score': 0.9070038263184163,\n",
       "  'support': 2988},\n",
       " '1': {'precision': 0.45073375262054505,\n",
       "  'recall': 0.419921875,\n",
       "  'f1-score': 0.43478260869565216,\n",
       "  'support': 512},\n",
       " 'accuracy': 0.8402857142857143,\n",
       " 'macro avg': {'precision': 0.6762434889467264,\n",
       "  'recall': 0.6661189026941098,\n",
       "  'f1-score': 0.6708932175070342,\n",
       "  'support': 3500},\n",
       " 'weighted avg': {'precision': 0.8357755195591907,\n",
       "  'recall': 0.8402857142857143,\n",
       "  'f1-score': 0.8379246081976005,\n",
       "  'support': 3500}}"
      ]
     },
     "execution_count": 105,
     "metadata": {},
     "output_type": "execute_result"
    }
   ],
   "source": [
    "classification_report(y_test,predicted,output_dict=True)"
   ]
  },
  {
   "cell_type": "code",
   "execution_count": 111,
   "id": "d16471d1",
   "metadata": {},
   "outputs": [],
   "source": [
    "acc = round(report['accuracy'],4)"
   ]
  },
  {
   "cell_type": "code",
   "execution_count": 87,
   "id": "c52eb22a",
   "metadata": {},
   "outputs": [
    {
     "data": {
      "text/plain": [
       "Index(['0', '1'], dtype='object')"
      ]
     },
     "execution_count": 87,
     "metadata": {},
     "output_type": "execute_result"
    }
   ],
   "source": [
    "df_report.index#.map(lambda x: 'bot' if x==1 else 'human')"
   ]
  },
  {
   "cell_type": "code",
   "execution_count": 137,
   "id": "11b2da0e",
   "metadata": {},
   "outputs": [
    {
     "data": {
      "text/plain": [
       "<matplotlib.table.Table at 0x256e0cc6ac0>"
      ]
     },
     "execution_count": 137,
     "metadata": {},
     "output_type": "execute_result"
    },
    {
     "data": {
      "image/png": "[encoded data removed]",
      "text/plain": [
       "<Figure size 360x360 with 1 Axes>"
      ]
     },
     "metadata": {
      "needs_background": "light"
     },
     "output_type": "display_data"
    }
   ],
   "source": [
    "plt.figure(figsize=(5,5))\n",
    "ax = plt.subplot(111)\n",
    "ax.table(cellText=np.round(df_report.values,4), \n",
    "         colLabels=df_report.columns, \n",
    "         rowLabels=df_report.index.map(lambda x: 'bot' if x=='1' else 'human'),\n",
    "         colWidths = [0.2]*4,\n",
    "         bbox = [0.175, 0.35, 0.8, 0.6],\n",
    "         edges='closed',\n",
    "         colColours = ['lightblue']*4,\n",
    "         rowColours = ['lightblue']*2,\n",
    "         fontsize=1000)\n",
    "\n",
    "ax.table(cellText=[['','',acc]], \n",
    "         rowLabels=['Accuracy'],\n",
    "         colWidths = [0.2]*3,\n",
    "         bbox = [0.21, 0.17, 0.55, 0.2],\n",
    "         edges='open',\n",
    "         rowColours = ['lightblue']*2,\n",
    "         fontsize=1000)"
   ]
  },
  {
   "cell_type": "code",
   "execution_count": 133,
   "id": "ada341ec",
   "metadata": {},
   "outputs": [
    {
     "data": {
      "text/plain": [
       "{'0': {'precision': 0.9017532252729077,\n",
       "  'recall': 0.9123159303882196,\n",
       "  'f1-score': 0.9070038263184163,\n",
       "  'support': 2988},\n",
       " '1': {'precision': 0.45073375262054505,\n",
       "  'recall': 0.419921875,\n",
       "  'f1-score': 0.43478260869565216,\n",
       "  'support': 512},\n",
       " 'accuracy': 0.8402857142857143,\n",
       " 'macro avg': {'precision': 0.6762434889467264,\n",
       "  'recall': 0.6661189026941098,\n",
       "  'f1-score': 0.6708932175070342,\n",
       "  'support': 3500},\n",
       " 'weighted avg': {'precision': 0.8357755195591907,\n",
       "  'recall': 0.8402857142857143,\n",
       "  'f1-score': 0.8379246081976005,\n",
       "  'support': 3500}}"
      ]
     },
     "execution_count": 133,
     "metadata": {},
     "output_type": "execute_result"
    }
   ],
   "source": [
    "report"
   ]
  },
  {
   "cell_type": "code",
   "execution_count": null,
   "id": "b757ae4e",
   "metadata": {
    "code_folding": []
   },
   "outputs": [],
   "source": [
    "# ROC curve\n",
    "model=xgb\n",
    "y_true = y_test\n",
    "y_pre = model.predict(X_test)\n",
    "ax1=plt.subplot(111)\n",
    "fpr, tpr, thresholds = roc_curve(y_true, y_pre)\n",
    "roc_auc = auc(fpr, tpr)\n",
    "ax1.plot(fpr, tpr, lw=1, alpha=0.3,label='(AUC = %0.2f)'%roc_auc)\n",
    "ax1.plot([0, 1], [0, 1], linestyle='--', lw=2, color='r', label='Chance', alpha=.8)\n",
    "ax1.set_xlim([-0.05, 1.05])\n",
    "ax1.set_ylim([-0.05, 1.05])\n",
    "ax1.set_xlabel('False Positive Rate')\n",
    "ax1.set_ylabel('True Positive Rate')\n",
    "ax1.set_title('ROC curve ')\n",
    "ax1.legend(loc='best')\n",
    "    "
   ]
  },
  {
   "cell_type": "code",
   "execution_count": null,
   "id": "7226203d",
   "metadata": {
    "code_folding": []
   },
   "outputs": [],
   "source": [
    "# PR curve\n",
    "model=xgb\n",
    "y_true = y_test\n",
    "y_pre = model.predict(X_test)\n",
    "ax1=plt.subplot(111)\n",
    "precision, recall, thresholds = precision_recall_curve(y_true, y_pre)\n",
    "pr_auc = auc(recall, precision)\n",
    "ax1.plot(recall, precision, lw=1, alpha=0.3,label='(AUC = %0.2f)'%pr_auc)\n",
    "ax1.plot([0, 1], [np.mean(y), np.mean(y)], linestyle='--', lw=2, color='r', label='Chance', alpha=.8)\n",
    "ax1.set_xlim([-0.05, 1.05])\n",
    "ax1.set_ylim([-0.05, 1.05])\n",
    "ax1.set_ylabel('Precision')\n",
    "ax1.set_xlabel('Recall')\n",
    "ax1.set_title('PR curve ')\n",
    "ax1.legend(loc='best')\n",
    "    "
   ]
  },
  {
   "cell_type": "code",
   "execution_count": null,
   "id": "4f16e83f",
   "metadata": {},
   "outputs": [],
   "source": []
  },
  {
   "cell_type": "code",
   "execution_count": null,
   "id": "ad2f6718",
   "metadata": {},
   "outputs": [],
   "source": [
    "del xgb, sc\n",
    "sc = StandardScaler(with_mean=True)\n",
    "sc.fit(X_train)\n",
    "X_train_scaled = sc.transform(X_train)\n",
    "X_test_scaled = sc.transform(X_test)\n",
    "xgb = XGBClassifier()\n",
    "xgb.fit(X_train, y_train)"
   ]
  },
  {
   "cell_type": "code",
   "execution_count": null,
   "id": "8bdf4324",
   "metadata": {},
   "outputs": [],
   "source": [
    "predicted = xgb.predict(X_test_scaled)\n",
    "print(classification_report(y_test,predicted))"
   ]
  },
  {
   "cell_type": "code",
   "execution_count": null,
   "id": "2892905a",
   "metadata": {},
   "outputs": [],
   "source": []
  },
  {
   "cell_type": "code",
   "execution_count": null,
   "id": "01969a3c",
   "metadata": {},
   "outputs": [],
   "source": []
  },
  {
   "cell_type": "code",
   "execution_count": null,
   "id": "df172dd8",
   "metadata": {},
   "outputs": [],
   "source": []
  },
  {
   "cell_type": "code",
   "execution_count": null,
   "id": "21d42d50",
   "metadata": {},
   "outputs": [],
   "source": [
    "ftwo_scorer = make_scorer(fbeta_score, beta=0.5, pos_label=1)"
   ]
  },
  {
   "cell_type": "code",
   "execution_count": null,
   "id": "54f699ed",
   "metadata": {},
   "outputs": [],
   "source": [
    "# weighting the classes to account for imbalancing\n",
    "rf = RandomForestClassifier()"
   ]
  },
  {
   "cell_type": "code",
   "execution_count": null,
   "id": "6defab01",
   "metadata": {},
   "outputs": [],
   "source": [
    "n_samples / (n_classes * np.bincount(y))"
   ]
  },
  {
   "cell_type": "markdown",
   "id": "ebe28e38",
   "metadata": {},
   "source": [
    "# PCA to reduce dimentionality "
   ]
  },
  {
   "cell_type": "code",
   "execution_count": null,
   "id": "056f5b11",
   "metadata": {},
   "outputs": [],
   "source": [
    "# scale before PCA\n",
    "# try with_mean = False\n",
    "sc = StandardScaler(with_mean=True)\n",
    "sc.fit(X_train)\n",
    "X_train_scaled = sc.transform(X_train)\n",
    "X_test_scaled = sc.transform(X_test)\n",
    "for j_features in [34, 24, 14, 4]:\n",
    "    xgb = XGBClassifier()\n",
    "    pca = PCA(n_components = j_features)\n",
    "    X_train_scaled_pca = pca.fit_transform(X_train_scaled)\n",
    "    xgb.fit(X_train_scaled_pca, y_train)\n",
    "    X_test_scaled_transformed = pca.transform(X_test_scaled)\n",
    "    predicted = xgb.predict(X_test_scaled_transformed)\n",
    "    del xgb, pca\n",
    "    print(j_features)\n",
    "    print(classification_report(y_test,predicted))"
   ]
  },
  {
   "cell_type": "code",
   "execution_count": null,
   "id": "993c5929",
   "metadata": {},
   "outputs": [],
   "source": [
    "X_test_scaled = sc.transform(X_test)"
   ]
  },
  {
   "cell_type": "code",
   "execution_count": null,
   "id": "9ccd5079",
   "metadata": {},
   "outputs": [],
   "source": [
    "predicted = xgb.predict(X_test_scaled)\n",
    "classification_report(y_Tes)"
   ]
  },
  {
   "cell_type": "code",
   "execution_count": null,
   "id": "16fa6d79",
   "metadata": {},
   "outputs": [],
   "source": [
    "print(classification_report(y_test,predicted))"
   ]
  },
  {
   "cell_type": "code",
   "execution_count": null,
   "id": "c841822d",
   "metadata": {},
   "outputs": [],
   "source": []
  },
  {
   "cell_type": "code",
   "execution_count": null,
   "id": "d740037e",
   "metadata": {},
   "outputs": [],
   "source": []
  },
  {
   "cell_type": "code",
   "execution_count": null,
   "id": "dec6b0ae",
   "metadata": {},
   "outputs": [],
   "source": []
  },
  {
   "cell_type": "code",
   "execution_count": null,
   "id": "8f126981",
   "metadata": {},
   "outputs": [],
   "source": []
  },
  {
   "cell_type": "code",
   "execution_count": null,
   "id": "44f5114a",
   "metadata": {},
   "outputs": [],
   "source": []
  },
  {
   "cell_type": "code",
   "execution_count": null,
   "id": "f530d27b",
   "metadata": {},
   "outputs": [],
   "source": []
  },
  {
   "cell_type": "code",
   "execution_count": null,
   "id": "92daa794",
   "metadata": {},
   "outputs": [],
   "source": []
  },
  {
   "cell_type": "code",
   "execution_count": null,
   "id": "ca2d083e",
   "metadata": {},
   "outputs": [],
   "source": []
  },
  {
   "cell_type": "code",
   "execution_count": null,
   "id": "416e2d9b",
   "metadata": {},
   "outputs": [],
   "source": []
  }
 ],
 "metadata": {
  "kernelspec": {
   "display_name": "Python 3",
   "language": "python",
   "name": "python3"
  },
  "language_info": {
   "codemirror_mode": {
    "name": "ipython",
    "version": 3
   },
   "file_extension": ".py",
   "mimetype": "text/x-python",
   "name": "python",
   "nbconvert_exporter": "python",
   "pygments_lexer": "ipython3",
   "version": "3.8.8"
  }
 },
 "nbformat": 4,
 "nbformat_minor": 5
}
