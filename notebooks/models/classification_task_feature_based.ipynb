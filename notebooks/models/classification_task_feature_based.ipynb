{
 "cells": [
  {
   "cell_type": "code",
   "execution_count": 1,
   "id": "ba8912dc",
   "metadata": {
    "code_folding": [
     0
    ]
   },
   "outputs": [],
   "source": [
    "# imports\n",
    "import sys  \n",
    "sys.path.insert(0, '../../../TwitterCoordinatedInorganicAgents')\n",
    "\n",
    "import torch\n",
    "import pandas as pd\n",
    "import seaborn as sns\n",
    "import matplotlib.pyplot as plt\n",
    "from transformers import AutoModel\n",
    "from transformers import AutoTokenizer\n",
    "import numpy as np\n",
    "from tweetcore.tasks.postgres_target import download_data\n",
    "from data_builders.tasks import collapse_embeddings\n",
    "import credentials_refactor\n",
    "import global_settings as gs\n",
    "import gc\n",
    "\n",
    "# models\n",
    "from sklearn.linear_model import LogisticRegression\n",
    "from sklearn.neighbors import KNeighborsClassifier\n",
    "from sklearn.ensemble import RandomForestClassifier\n",
    "from xgboost import XGBClassifier\n",
    "from sklearn.model_selection import train_test_split, cross_validate\n",
    "from sklearn.metrics import accuracy_score, f1_score, classification_report, roc_curve, auc, confusion_matrix"
   ]
  },
  {
   "cell_type": "markdown",
   "id": "87076680",
   "metadata": {},
   "source": [
    "# Getting data ready"
   ]
  },
  {
   "cell_type": "code",
   "execution_count": 2,
   "id": "f8bc9d73",
   "metadata": {
    "code_folding": [
     0
    ]
   },
   "outputs": [],
   "source": [
    "# data\n",
    "conf = credentials_refactor.return_credentials()\n",
    "data = download_data.pandas_df_from_postgre_query(configuration = conf ,\n",
    "                                                  query = '''\n",
    "                                                          select *\n",
    "                                                          from redacted_tables.features_user_classification\n",
    "                                                          ''')"
   ]
  },
  {
   "cell_type": "markdown",
   "id": "bce4b014",
   "metadata": {},
   "source": [
    "# User-based classifier"
   ]
  },
  {
   "cell_type": "code",
   "execution_count": 5,
   "id": "2d81ed74",
   "metadata": {},
   "outputs": [],
   "source": [
    "user_based_features = [i for i in data.columns if 'uuu' in i]"
   ]
  },
  {
   "cell_type": "code",
   "execution_count": 10,
   "id": "ed22e66d",
   "metadata": {},
   "outputs": [],
   "source": [
    "df_user = data[user_based_features + [\"target\"]].copy()"
   ]
  },
  {
   "cell_type": "code",
   "execution_count": 14,
   "id": "2d96243f",
   "metadata": {},
   "outputs": [],
   "source": [
    "df_user.fillna(-1,inplace=True)\n"
   ]
  },
  {
   "cell_type": "code",
   "execution_count": 22,
   "id": "14d3297e",
   "metadata": {},
   "outputs": [],
   "source": [
    "cast_to_int = ['uuu_year_joined', 'uuu_month_joined', 'uuu_day_of_month_joined', 'uuu_day_of_week_joined', 'uuu_hour_joined']\n",
    "for i in cast_to_int:\n",
    "    df_user.loc[:,i] = df_user[i].astype(int)"
   ]
  },
  {
   "cell_type": "code",
   "execution_count": 23,
   "id": "213c2725",
   "metadata": {},
   "outputs": [
    {
     "name": "stdout",
     "output_type": "stream",
     "text": [
      "<class 'pandas.core.frame.DataFrame'>\n",
      "RangeIndex: 1000000 entries, 0 to 999999\n",
      "Data columns (total 35 columns):\n",
      " #   Column                                 Non-Null Count    Dtype  \n",
      "---  ------                                 --------------    -----  \n",
      " 0   uuu_year_joined                        1000000 non-null  int32  \n",
      " 1   uuu_month_joined                       1000000 non-null  int32  \n",
      " 2   uuu_day_of_month_joined                1000000 non-null  int32  \n",
      " 3   uuu_day_of_week_joined                 1000000 non-null  int32  \n",
      " 4   uuu_joined_weekend                     1000000 non-null  int64  \n",
      " 5   uuu_hour_joined                        1000000 non-null  int32  \n",
      " 6   uuu_username_length                    1000000 non-null  int64  \n",
      " 7   uuu_fraction_numbers_username          1000000 non-null  float64\n",
      " 8   uuu_fraction_emojis_username           1000000 non-null  float64\n",
      " 9   uuu_fraction_capital_letters_username  1000000 non-null  float64\n",
      " 10  uuu_fraction_special_char_username     1000000 non-null  float64\n",
      " 11  uuu_username_words                     1000000 non-null  int64  \n",
      " 12  uuu_avg_word_length_username           1000000 non-null  float64\n",
      " 13  uuu_name_length                        1000000 non-null  int64  \n",
      " 14  uuu_fraction_numbers_name              1000000 non-null  float64\n",
      " 15  uuu_fraction_emojis_name               1000000 non-null  float64\n",
      " 16  uuu_fraction_capital_letters_name      1000000 non-null  float64\n",
      " 17  uuu_fraction_special_char_name         1000000 non-null  float64\n",
      " 18  uuu_name_words                         1000000 non-null  int64  \n",
      " 19  uuu_avg_word_length_name               1000000 non-null  float64\n",
      " 20  uuu_description_tags                   1000000 non-null  int64  \n",
      " 21  uuu_description_mentions               1000000 non-null  int64  \n",
      " 22  uuu_description_urls                   1000000 non-null  int64  \n",
      " 23  uuu_has_location                       1000000 non-null  int64  \n",
      " 24  uuu_has_pinned_tweet                   1000000 non-null  int64  \n",
      " 25  uuu_has_default_profile_picture        1000000 non-null  int64  \n",
      " 26  uuu_following_count                    1000000 non-null  int64  \n",
      " 27  uuu_following_followers_ratio          1000000 non-null  float64\n",
      " 28  uuu_tweet_count                        1000000 non-null  int64  \n",
      " 29  uuu_listed_tweet_ratio                 1000000 non-null  float64\n",
      " 30  uuu_tweet_followers_ratio              1000000 non-null  float64\n",
      " 31  uuu_number_countries_withheld          1000000 non-null  int64  \n",
      " 32  uuu_is_protected                       1000000 non-null  int64  \n",
      " 33  uuu_is_verified                        1000000 non-null  int64  \n",
      " 34  target                                 1000000 non-null  int64  \n",
      "dtypes: float64(13), int32(5), int64(17)\n",
      "memory usage: 248.0 MB\n"
     ]
    }
   ],
   "source": [
    "df_user.info()"
   ]
  },
  {
   "cell_type": "code",
   "execution_count": null,
   "id": "b302b264",
   "metadata": {},
   "outputs": [],
   "source": []
  },
  {
   "cell_type": "code",
   "execution_count": 27,
   "id": "3c4e2c8e",
   "metadata": {},
   "outputs": [],
   "source": [
    "X = df_user.drop(columns=\"target\").copy()\n",
    "y = df_user.target.copy()\n",
    "\n",
    "X_train, X_test, y_train, y_test = train_test_split(\n",
    "                                                     X, \n",
    "                                                     y, \n",
    "                                                     test_size=0.35, \n",
    "                                                     random_state=12\n",
    "                                                    )"
   ]
  },
  {
   "cell_type": "code",
   "execution_count": 31,
   "id": "1b3ee32a",
   "metadata": {},
   "outputs": [
    {
     "name": "stdout",
     "output_type": "stream",
     "text": [
      "RandomForest with mean accuracy over 5 folds of: 0.2522 and sigma accross test metrics of: 0.0021\n"
     ]
    },
    {
     "name": "stderr",
     "output_type": "stream",
     "text": [
      "C:\\Users\\alejo\\Anaconda3\\lib\\site-packages\\sklearn\\linear_model\\_logistic.py:814: ConvergenceWarning: lbfgs failed to converge (status=1):\n",
      "STOP: TOTAL NO. of ITERATIONS REACHED LIMIT.\n",
      "\n",
      "Increase the number of iterations (max_iter) or scale the data as shown in:\n",
      "    https://scikit-learn.org/stable/modules/preprocessing.html\n",
      "Please also refer to the documentation for alternative solver options:\n",
      "    https://scikit-learn.org/stable/modules/linear_model.html#logistic-regression\n",
      "  n_iter_i = _check_optimize_result(\n",
      "C:\\Users\\alejo\\Anaconda3\\lib\\site-packages\\sklearn\\linear_model\\_logistic.py:814: ConvergenceWarning: lbfgs failed to converge (status=1):\n",
      "STOP: TOTAL NO. of ITERATIONS REACHED LIMIT.\n",
      "\n",
      "Increase the number of iterations (max_iter) or scale the data as shown in:\n",
      "    https://scikit-learn.org/stable/modules/preprocessing.html\n",
      "Please also refer to the documentation for alternative solver options:\n",
      "    https://scikit-learn.org/stable/modules/linear_model.html#logistic-regression\n",
      "  n_iter_i = _check_optimize_result(\n",
      "C:\\Users\\alejo\\Anaconda3\\lib\\site-packages\\sklearn\\linear_model\\_logistic.py:814: ConvergenceWarning: lbfgs failed to converge (status=1):\n",
      "STOP: TOTAL NO. of ITERATIONS REACHED LIMIT.\n",
      "\n",
      "Increase the number of iterations (max_iter) or scale the data as shown in:\n",
      "    https://scikit-learn.org/stable/modules/preprocessing.html\n",
      "Please also refer to the documentation for alternative solver options:\n",
      "    https://scikit-learn.org/stable/modules/linear_model.html#logistic-regression\n",
      "  n_iter_i = _check_optimize_result(\n",
      "C:\\Users\\alejo\\Anaconda3\\lib\\site-packages\\sklearn\\linear_model\\_logistic.py:814: ConvergenceWarning: lbfgs failed to converge (status=1):\n",
      "STOP: TOTAL NO. of ITERATIONS REACHED LIMIT.\n",
      "\n",
      "Increase the number of iterations (max_iter) or scale the data as shown in:\n",
      "    https://scikit-learn.org/stable/modules/preprocessing.html\n",
      "Please also refer to the documentation for alternative solver options:\n",
      "    https://scikit-learn.org/stable/modules/linear_model.html#logistic-regression\n",
      "  n_iter_i = _check_optimize_result(\n",
      "C:\\Users\\alejo\\Anaconda3\\lib\\site-packages\\sklearn\\linear_model\\_logistic.py:814: ConvergenceWarning: lbfgs failed to converge (status=1):\n",
      "STOP: TOTAL NO. of ITERATIONS REACHED LIMIT.\n",
      "\n",
      "Increase the number of iterations (max_iter) or scale the data as shown in:\n",
      "    https://scikit-learn.org/stable/modules/preprocessing.html\n",
      "Please also refer to the documentation for alternative solver options:\n",
      "    https://scikit-learn.org/stable/modules/linear_model.html#logistic-regression\n",
      "  n_iter_i = _check_optimize_result(\n"
     ]
    },
    {
     "name": "stdout",
     "output_type": "stream",
     "text": [
      "LogisticRegression with mean accuracy over 5 folds of: 0.0206 and sigma accross test metrics of: 0.0037\n",
      "K-Neighbors with mean accuracy over 5 folds of: 0.2452 and sigma accross test metrics of: 0.0023\n",
      "XGBoost with mean accuracy over 5 folds of: 0.2789 and sigma accross test metrics of: 0.0014\n"
     ]
    }
   ],
   "source": [
    "# test different models\n",
    "\n",
    "rf = RandomForestClassifier()\n",
    "#lr = LogisticRegression(max_iter=1000)\n",
    "kn = KNeighborsClassifier()\n",
    "xgb = XGBClassifier()\n",
    "\n",
    "all_models = {\"RandomForest\":rf, \"K-Neighbors\":kn, \"XGBoost\":xgb}\n",
    "\n",
    "for name, model in zip(all_models.keys(),all_models.values()):\n",
    "    cv_results = cross_validate(model, \n",
    "                            X_train, \n",
    "                            y_train, \n",
    "                            cv=5,\n",
    "                            scoring=[\"f1\"])\n",
    "    print(name + \" with mean f1 over 5 folds of: \" + str(round(np.mean(cv_results[\"test_f1\"]),4)) + \" and sigma accross test metrics of: \" + str(round(np.std(cv_results[\"test_f1\"]),4)))"
   ]
  },
  {
   "cell_type": "code",
   "execution_count": null,
   "id": "e1c7472f",
   "metadata": {},
   "outputs": [],
   "source": []
  }
 ],
 "metadata": {
  "kernelspec": {
   "display_name": "Python 3",
   "language": "python",
   "name": "python3"
  },
  "language_info": {
   "codemirror_mode": {
    "name": "ipython",
    "version": 3
   },
   "file_extension": ".py",
   "mimetype": "text/x-python",
   "name": "python",
   "nbconvert_exporter": "python",
   "pygments_lexer": "ipython3",
   "version": "3.8.8"
  }
 },
 "nbformat": 4,
 "nbformat_minor": 5
}
